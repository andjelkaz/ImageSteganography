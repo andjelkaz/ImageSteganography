{
 "cells": [
  {
   "cell_type": "markdown",
   "metadata": {},
   "source": [
    "# Steganografija slike\n",
    "\n",
    "Način na koji se može sakriti tajna poruka tokom slanja tako da ne privlači pažnju napadača jeste steganografija. U kriptografiji poruke su šifrovane te često zainteresuju napadače koji pokušavaju da razbiju šifru, dok u steganografiji sakrivena poruka se ne zaključava vidljivim ključem koji se potom odvojeno šalje, pa ne postoji objekat privlačenja pogleda napadača.\n",
    "<hr>\n",
    "<i>Steganografija</i> je metoda sakrivanja tajne poruke u slici, zvuku, videu itd koji će biti prenosni mediji. Kako tekstualna poruka, tako se i slika može sakriti u drugoj slici i slično. Takvom steganografijom ćemo se baviti u nastavku."
   ]
  },
  {
   "cell_type": "markdown",
   "metadata": {},
   "source": [
    "Tehnika sakrivanja poruke/slike u slici-nosaču jeste ubacivanje značajnih bitova (bitova velike težine) tajne poruke/slike na mestima najnižih bitova slike-nosača, jer na taj način slika-nosač neće biti vidljivo promenjena i tajna poruka/slika neće biti vidljiva. Bitno je izabrati dobru sliku-nosač koja je puna detalja, jer male promene u pikselima koji predstavljaju oštre ivice mogu biti vidljive. Dakle, ono što će biti promenjeno jeste intenzitet RGB boja u nekim pikselima. Procenat originalne slike koji možemo menjati je mali, 10-ak procenata da promena slike ne bi bila vidljiva. "
   ]
  },
  {
   "cell_type": "markdown",
   "metadata": {},
   "source": [
    "<hr>\n",
    "Prikazivanje svakog piksela je moguće čuvanjem vrednosti boja u njemu. Koristićemo RGB model boja. Svaki piksel će imati tri 8-bitne vrednosti za svaku od boja.\n",
    "\n",
    "![rgb](rgb.png)\n",
    "<hr>\n",
    "<img src=\"tajno.png\" width=\"500\">\n",
    "\n",
    "Kako bismo dobili male promene slike-nosača menjaćemo vrednosti njenih najnižih bitova sa bitovima najveće težine poruke ili slike koju želimo da sakrijemo. "
   ]
  },
  {
   "cell_type": "markdown",
   "metadata": {},
   "source": [
    "Svaki piksel će biti predstavljen trojkama 8-bitnih brojeva, svaki će predstavljati jačinu jedne od RGB boja. Vrednosti idu od 0 do 255.\n",
    "![rgb_bit](rgb_bit.png)"
   ]
  },
  {
   "cell_type": "markdown",
   "metadata": {},
   "source": [
    "Za početak sakrićemo sliku unutar druge slike:"
   ]
  },
  {
   "cell_type": "code",
   "execution_count": 2,
   "metadata": {},
   "outputs": [],
   "source": [
    "%config IPCompleter.greedy=True"
   ]
  },
  {
   "cell_type": "code",
   "execution_count": 71,
   "metadata": {},
   "outputs": [],
   "source": [
    "from PIL import Image\n",
    "import numpy as np\n",
    "\n",
    "def copy_image(image):\n",
    "    return Image.new(image.mode, image.size, (0,0,0))\n",
    "\n",
    "def get_size(image):\n",
    "    return (image.size[0], image.size[1])\n",
    "\n",
    "\n",
    "class Steganography:\n",
    "    #From 3 given numbers this returns rgb values in binary representation\n",
    "    get_binary_rgb = lambda r, g, b: (format(r, \"b\").zfill(8), format(g, \"b\").zfill(8), (format(b, \"b\").zfill(8)))\n",
    "  \n",
    "    @staticmethod\n",
    "    def get_rgb(image_rgb):\n",
    "         return Steganography.get_binary_rgb(image_rgb[0], image_rgb[1], image_rgb[2])\n",
    "\n",
    "    \n",
    "    #Method that returns new image that is a result of merging secret image \n",
    "    #into holder image that will be send and visible\n",
    "    @staticmethod\n",
    "    def encrypt(image_holder, image_secret):\n",
    "        #If image size (with and hight given as a tuple) is bigger then holder image, than we want to exit\n",
    "        h_weight, h_hight = get_size(image_holder)\n",
    "        s_weight, s_hight = get_size(image_secret)\n",
    "        if s_weight > h_weight or s_weight > h_hight:\n",
    "            raise ValueError('Secret image is bigger than holder image!')\n",
    "        \n",
    "        #We can see RGB values for all pixcels with command: #print np.asarray(image_holder)\n",
    "        \n",
    "        #Pixel maps for both images\n",
    "        image_holder_pixels = image_holder.load()\n",
    "        image_secret_pixels = image_secret.load()\n",
    "       \n",
    "        #Output image will be the same as holder, and then we are going to change it's pixels\n",
    "        #importing part of pixels of secret image\n",
    "        output_image = copy_image(image_holder)\n",
    "        output_image_pixels = output_image.load()\n",
    "        \n",
    "        for i in range(h_weight):\n",
    "            for j in range(h_hight): \n",
    "                rgb_binary_holder = Steganography.get_rgb(image_holder_pixels[i,j])\n",
    "                 \n",
    "                #Check if the secret image is finished because it is smaller than holder image         \n",
    "                if(s_weight > i and s_hight > j):\n",
    "                    rgb_binary_secret = Steganography.get_rgb(image_secret_pixels[i,j])\n",
    "                else:\n",
    "                    rgb_binary_secret = Steganography.get_rgb((0, 0, 0))\n",
    "                \n",
    "                #Now we have rgb binary values for holder and secret image\n",
    "                #Then we want to place secret image into holder one into last 4 bits\n",
    "                r = rgb_binary_holder[0][:4] + rgb_binary_secret[0][:4]\n",
    "                g = rgb_binary_holder[1][:4] + rgb_binary_secret[1][:4]\n",
    "                b = rgb_binary_holder[2][:4] + rgb_binary_secret[2][:4]\n",
    "                output_image_pixels[i, j] = (int(r, 2), int(g, 2), int(b, 2))\n",
    "                \n",
    "        return output_image\n",
    "        \n",
    "    \n",
    "    #Method that returns secret image that is hidden in visible recived image\n",
    "    @staticmethod\n",
    "    def decrypt(image):\n",
    "        #Pixel map for image\n",
    "        image_pixels = image.load()\n",
    "      \n",
    "        weight, hight = get_size(image)\n",
    "        size = image.size\n",
    "        \n",
    "        #Output image will be the same as holder, and then we are going to change it's pixels\n",
    "        #importing part of pixels of secret image\n",
    "        output_image = Image.new(image.mode, size, (0, 0, 0))\n",
    "        output_image_pixels = output_image.load()\n",
    "        \n",
    "        #For size of secret image\n",
    "        k = 0\n",
    "        l = 0\n",
    "        \n",
    "        #Making rgb map and checking if all pixels are zero then there is no hidden picture\n",
    "        for i in range(weight):\n",
    "            for j in range(hight): \n",
    "                rgb_binary = Steganography.get_rgb(image_pixels[i,j])\n",
    "                \n",
    "                #Now we have rgb binary values\n",
    "                #Then we want to get secret image from holder one by taking last 4 bits\n",
    "                r = rgb_binary[0][4:] + '0000'\n",
    "                g = rgb_binary[1][4:] + '0000'\n",
    "                b = rgb_binary[2][4:] + '0000'\n",
    "                output_image_pixels[i, j] = (int(r, 2), int(g, 2), int(b, 2))\n",
    "                \n",
    "                #If all pixels are zero, then there is no secret picture merged on that pixel\n",
    "                #We are seting size of secret picture, last pixel not zero is end of the secret image\n",
    "                #so we are saving that pixel indexes\n",
    "                if output_image_pixels[i, j] == (0, 0, 0):\n",
    "                    pass\n",
    "                else:\n",
    "                    k = i\n",
    "                    l = j\n",
    "        \n",
    "        output_weight = k + 1\n",
    "        output_hight = l + 1\n",
    "        #Crop picture from first pixel (left upper corner) to size that we found\n",
    "        output_image = output_image.crop((0, 0, output_weight, output_hight))        \n",
    "            \n",
    "        return output_image\n",
    "        \n",
    "        \n",
    "        \n",
    "        \n",
    "        #image_holder.close()\n",
    "        #image_secret.close()\n",
    "        \n",
    "#if __name__ == '__main__':\n",
    "#encrypt = Steganography.encrypt(Image.open('New_york.jpg'), Image.open('secret_photo.jpg'))       \n",
    "#encrypt.save('output.png')\n",
    "decrypt = Steganography.decrypt(Image.open('output.png'))       \n",
    "decrypt.save('output_dec.png')"
   ]
  },
  {
   "cell_type": "code",
   "execution_count": null,
   "metadata": {},
   "outputs": [],
   "source": []
  },
  {
   "cell_type": "code",
   "execution_count": null,
   "metadata": {},
   "outputs": [],
   "source": []
  }
 ],
 "metadata": {
  "kernelspec": {
   "display_name": "Python 3",
   "language": "python",
   "name": "python3"
  },
  "language_info": {
   "codemirror_mode": {
    "name": "ipython",
    "version": 3
   },
   "file_extension": ".py",
   "mimetype": "text/x-python",
   "name": "python",
   "nbconvert_exporter": "python",
   "pygments_lexer": "ipython3",
   "version": "3.7.3"
  }
 },
 "nbformat": 4,
 "nbformat_minor": 2
}
