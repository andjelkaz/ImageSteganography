{
 "cells": [
  {
   "cell_type": "markdown",
   "metadata": {},
   "source": [
    "# Steganografija slike\n",
    "\n",
    "Način na koji se može sakriti tajna poruka tokom slanja tako da ne privlači pažnju napadača jeste steganografija. U kriptografiji poruke su šifrovane te često zainteresuju napadače koji pokušavaju da razbiju šifru, dok u steganografiji sakrivena poruka se ne zaključava vidljivim ključem koji se potom odvojeno šalje, pa ne postoji objekat privlačenja pogleda napadača.\n",
    "<hr>\n",
    "<i>Steganografija</i> je metoda sakrivanja tajne poruke u slici, zvuku, videu itd koji će biti prenosni mediji. Kako tekstualna poruka, tako se i slika može sakriti u drugoj slici i slično. Takvom steganografijom ćemo se baviti u nastavku."
   ]
  },
  {
   "cell_type": "markdown",
   "metadata": {},
   "source": [
    "Tehnika sakrivanja poruke/slike u slici-nosaču jeste ubacivanje značajnih bitova (bitova velike težine) tajne poruke/slike na mestima najnižih bitova slike-nosača, jer na taj način slika-nosač neće biti vidljivo promenjena i tajna poruka/slika neće biti vidljiva. Bitno je izabrati dobru sliku-nosač koja je puna detalja, jer male promene u pikselima koji predstavljaju oštre ivice mogu biti vidljive. Dakle, ono što će biti promenjeno jeste intenzitet RGB boja u nekim pikselima. Procenat originalne slike koji možemo menjati je mali, 10-ak procenata da promena slike ne bi bila vidljiva. "
   ]
  },
  {
   "cell_type": "markdown",
   "metadata": {},
   "source": [
    "<hr>\n",
    "Prikazivanje svakog piksela je moguće čuvanjem vrednosti boja u njemu. Koristićemo RGB model boja. Svaki piksel će imati tri 8-bitne vrednosti za svaku od boja.\n",
    "\n",
    "![rgb](rgb.png)\n",
    "<hr>\n",
    "<img src=\"tajno.png\" width=\"500\">\n",
    "\n",
    "Kako bismo dobili male promene slike-nosača menjaćemo vrednosti njenih najnižih bitova sa bitovima najveće težine poruke ili slike koju želimo da sakrijemo. "
   ]
  },
  {
   "cell_type": "markdown",
   "metadata": {},
   "source": [
    "Svaki piksel će biti predstavljen trojkama 8-bitnih brojeva, svaki će predstavljati jačinu jedne od RGB boja. Vrednosti idu od 0 do 255.\n",
    "![rgb_bit](rgb_bit.png)"
   ]
  },
  {
   "cell_type": "markdown",
   "metadata": {},
   "source": [
    "Za početak sakrićemo sliku unutar druge slike:"
   ]
  },
  {
   "cell_type": "code",
   "execution_count": 2,
   "metadata": {},
   "outputs": [],
   "source": [
    "%config IPCompleter.greedy=True"
   ]
  },
  {
   "cell_type": "code",
   "execution_count": null,
   "metadata": {},
   "outputs": [],
   "source": [
    "from PIL import Image\n",
    "import numpy as np\n",
    "\n",
    "class Steganography:\n",
    "    #Returns rgb values in binary representation\n",
    "    get_binary_rgb = lambda r, g, b: ('{0:08b}'.format(r, 'b'), '{0:08b}'.format(g, 'b'), '{0:08b}'.format(b, 'b'))\n",
    "\n",
    "    @staticmethod\n",
    "    def encrypt(image_holder, image_secret):\n",
    "        \"\"\"Method that returns new image that is a result of merging secret image into \n",
    "        image that will be send \"\"\"\n",
    "        \n",
    "        #If image size (with and hight given as a tuple) is bigger then holder image, than we want to exit\n",
    "        holder_weight = image_holder.size[0]\n",
    "        holder_hight = image_holder.size[1]\n",
    "        secret_weight = image_secret.size[0]\n",
    "        secret_hight = image_secret.size[1]\n",
    "        if secret_weight > holder_weight or secret_hight > holder_hight:\n",
    "            raise ValueError('Secret image is bigger than image holder!')\n",
    "        \n",
    "        #We can see what are RGB values of pixcels: print np.asarray(image_holder)\n",
    "        image_holder_pixels = image_holder.load()\n",
    "        image_secret_pixels = image_secret.load()\n",
    "       \n",
    "        #Output image will be the same as holder, and then we are going to change it's pixels\n",
    "        output_image = Image.new(image_holder.mode, image_holder.size)\n",
    "        output_image_pixels = output_image.load()\n",
    "        \n",
    "        for i in range(holder_weight):\n",
    "            for j in range(holder_hight): \n",
    "                r_h = image_holder_pixels[i,j][0]\n",
    "                g_h = image_holder_pixels[i,j][1]\n",
    "                b_h = image_holder_pixels[i,j][2]\n",
    "                rgb_binary_holder = Steganography.get_binary_rgb(r_h, g_h, b_h)\n",
    "                \n",
    "                #Check if the secret image is finished because it is smaller than holder image\n",
    "                r_s = 0\n",
    "                g_s = 0\n",
    "                b_s = 0          \n",
    "                if(secret_weight > i and secret_hight > j):\n",
    "                    r_s = image_secret_pixels[i,j][0]\n",
    "                    g_s = image_secret_pixels[i,j][1]\n",
    "                    b_s = image_secret_pixels[i,j][2]\n",
    "                rgb_binary_secret = Steganography.get_binary_rgb(r_s, g_s, b_s)\n",
    "                \n",
    "                #Now we have rgb binary values for holder image and secret image that we want to merge it into\n",
    "                #Then we want to place secret image into holder one\n",
    "                r = rgb_binary_holder[0][:4] + rgb_binary_secret[0][:4]\n",
    "                g = rgb_binary_holder[1][:4] + rgb_binary_secret[1][:4]\n",
    "                b = rgb_binary_holder[2][:4] + rgb_binary_secret[2][:4]\n",
    "                output_image_pixels[i, j] = (int(r, 2), int(g, 2), int(b, 2))\n",
    "                \n",
    "        return output_image\n",
    "        \n",
    "        \n",
    "        \n",
    "        \n",
    "        \n",
    "        \n",
    "        \n",
    "        #image_holder.close()\n",
    "        #image_secret.close()\n",
    "        \n",
    "#f __name__ == '__main__':\n",
    "encrypt = Steganography.encrypt(Image.open('New_york.jpg'), Image.open('secret_photo.jpg'))       \n",
    "encrypt.save('output.jpeg')"
   ]
  },
  {
   "cell_type": "code",
   "execution_count": null,
   "metadata": {},
   "outputs": [],
   "source": []
  },
  {
   "cell_type": "code",
   "execution_count": null,
   "metadata": {},
   "outputs": [],
   "source": []
  }
 ],
 "metadata": {
  "kernelspec": {
   "display_name": "Python 3",
   "language": "python",
   "name": "python3"
  },
  "language_info": {
   "codemirror_mode": {
    "name": "ipython",
    "version": 3
   },
   "file_extension": ".py",
   "mimetype": "text/x-python",
   "name": "python",
   "nbconvert_exporter": "python",
   "pygments_lexer": "ipython3",
   "version": "3.7.3"
  }
 },
 "nbformat": 4,
 "nbformat_minor": 2
}
