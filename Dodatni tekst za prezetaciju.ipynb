{
 "cells": [
  {
   "cell_type": "markdown",
   "metadata": {},
   "source": [
    "Steganografija se prvi put javila krajem 15.veka. The word Steganography technically means covered or hidden writing. Its existence can be found back to 440 BC. \n",
    "\n",
    "  Voštane pločice u staroj Grčkoj ,\n",
    "  Poruke na kurirovom telu ,\n",
    "  Nevidljivo mastilo ,\n",
    "  Mikrofotografije i mikrotekst ,\n",
    "  Nulta šifra.\n",
    "  \n",
    "Употреба стеганографије потиче од давнина (440 год. пре н. е.), Херодот је навео два примера стеганографије у свом делу „Херодотова историја“. У делу је наведено како је Демаратус послао упозорење о предстојећем нападу на Грчку записивањем поруке на дрвени калуп воштане плоче за писање, пре изливања воска. Воштане плоче су се доста користиле као папир јер је била омогућена поновна употреба површине за писање. Други древни пример употребе стеганографије је прича о Хистаеусу и његовом верном робу на чију главу је Хистиаеус исписао поруку и сачекао да му коса израсте. Касније је роб ту поруку непримећено пренео како би покренуо устанак против Персијанаца."
   ]
  },
  {
   "cell_type": "markdown",
   "metadata": {},
   "source": [
    "Nacini steganografije:\n",
    "-Скривање порука у најмање значајним битима слике;\n",
    "-Скривање поруке у постојећем шифрату. Идеја је да прво шифрујемо поруку, а затим њен садржај распоредимо и заменимо са блоковима неког другог шифрата;\n",
    "-Пресликавање статистичких особина једне датотеке на другу датотеку, како би прва личила на другу датотеку;\n",
    "-Намерно, неприметно успоравање рачунарске мреже, у којој време може представљати симболику за пренос неке поруке;\n",
    "-Намерна промена редоследа пакета унутар рачунарске мреже;\n",
    "-Блог стеганографија користи издељене поруке, где делове поруке оставља као коментаре на разним блог страницама."
   ]
  },
  {
   "cell_type": "code",
   "execution_count": null,
   "metadata": {},
   "outputs": [],
   "source": []
  }
 ],
 "metadata": {
  "kernelspec": {
   "display_name": "Python 3",
   "language": "python",
   "name": "python3"
  },
  "language_info": {
   "codemirror_mode": {
    "name": "ipython",
    "version": 3
   },
   "file_extension": ".py",
   "mimetype": "text/x-python",
   "name": "python",
   "nbconvert_exporter": "python",
   "pygments_lexer": "ipython3",
   "version": "3.7.3"
  }
 },
 "nbformat": 4,
 "nbformat_minor": 2
}
